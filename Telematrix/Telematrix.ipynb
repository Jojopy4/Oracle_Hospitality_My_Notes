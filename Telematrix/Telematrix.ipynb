{
 "cells": [
  {
   "cell_type": "markdown",
   "id": "cdad8205-a572-430d-aa27-3302146856a5",
   "metadata": {},
   "source": [
    "<h1>Telematrix</h1>"
   ]
  },
  {
   "cell_type": "markdown",
   "id": "cbf25def-3a2d-4527-a9a0-fa0d681c95ae",
   "metadata": {},
   "source": [
    "![alt text](Telematrix.jpg)"
   ]
  },
  {
   "cell_type": "markdown",
   "id": "91a97080-4a4c-48f0-8236-1a518e432d22",
   "metadata": {},
   "source": [
    "![alt text](Telematrix_Current_Status.jpg)"
   ]
  },
  {
   "cell_type": "code",
   "execution_count": null,
   "id": "7f3f4fc3-546a-41bd-a266-e933ef4de553",
   "metadata": {},
   "outputs": [],
   "source": []
  }
 ],
 "metadata": {
  "kernelspec": {
   "display_name": "Python 3 (ipykernel)",
   "language": "python",
   "name": "python3"
  },
  "language_info": {
   "codemirror_mode": {
    "name": "ipython",
    "version": 3
   },
   "file_extension": ".py",
   "mimetype": "text/x-python",
   "name": "python",
   "nbconvert_exporter": "python",
   "pygments_lexer": "ipython3",
   "version": "3.10.5"
  }
 },
 "nbformat": 4,
 "nbformat_minor": 5
}
