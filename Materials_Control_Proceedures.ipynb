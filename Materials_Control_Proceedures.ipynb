{
 "cells": [
  {
   "cell_type": "markdown",
   "id": "4f7bc5e3-07ae-4957-8a66-716d1f097776",
   "metadata": {},
   "source": [
    "<h1>Hiring Pillar Equipment</h1>"
   ]
  },
  {
   "cell_type": "markdown",
   "id": "baa1f639-3c1a-4ca4-9d0a-87397363b58f",
   "metadata": {},
   "source": [
    "<ol>Log into MC &rarr; Click on <b>Requisitioning </b> &rarr; Click on <b> New </b> &rarr; Click on <b>New Position</b> &rarr; Under Cost Center/Store select <b>TMH Banqueting</b> &rarr; Under Article select <b> HIRE OF PA SYSTEM AND EQUIPMENT</b> &rarr; Enter quantity: <b>1</b> &rarr; Enter Note <b>Event Name, Event room, Day of the Event, Items Hired</b></ol>"
   ]
  },
  {
   "cell_type": "markdown",
   "id": "5714eacd-5e36-4878-8681-a9936029b403",
   "metadata": {},
   "source": [
    "![alt text](Hiring_Pillar_Equipments_MC.jpg)"
   ]
  },
  {
   "cell_type": "code",
   "execution_count": null,
   "id": "129604d9-288c-440c-9f21-c2ac816f764f",
   "metadata": {},
   "outputs": [],
   "source": []
  }
 ],
 "metadata": {
  "kernelspec": {
   "display_name": "Python 3 (ipykernel)",
   "language": "python",
   "name": "python3"
  },
  "language_info": {
   "codemirror_mode": {
    "name": "ipython",
    "version": 3
   },
   "file_extension": ".py",
   "mimetype": "text/x-python",
   "name": "python",
   "nbconvert_exporter": "python",
   "pygments_lexer": "ipython3",
   "version": "3.10.5"
  }
 },
 "nbformat": 4,
 "nbformat_minor": 5
}
