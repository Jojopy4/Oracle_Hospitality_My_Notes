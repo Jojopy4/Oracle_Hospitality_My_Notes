{
 "cells": [
  {
   "cell_type": "markdown",
   "id": "4f7bc5e3-07ae-4957-8a66-716d1f097776",
   "metadata": {},
   "source": [
    "<b><ol start=\"1\">\n",
    "    <li> \n",
    "        <h1>Hiring Pillar Equipment</h1>\n",
    "    </li>\n",
    "</ol></b>"
   ]
  },
  {
   "cell_type": "markdown",
   "id": "baa1f639-3c1a-4ca4-9d0a-87397363b58f",
   "metadata": {},
   "source": [
    "<ol>\n",
    "    <li> Log into MC &rarr; Click on <b>Purchase </b> &rarr; Click on <b> New </b> &rarr; Click on <b>New Position</b> &rarr; Under Cost Center/Store select <b>TMH Banqueting</b> &rarr; Under Article select <b> HIRE OF PA SYSTEM AND EQUIPMENT</b> &rarr; Enter quantity: <b>1</b> &rarr; Enter Note <b>Event Name, Event room, Day of the Event, Items Hired</b> </li>\n",
    "    <li> Write the invoice number at the back of the Tax invoice from Pillar </li>\n",
    "\n",
    "</ol>"
   ]
  },
  {
   "cell_type": "markdown",
   "id": "5714eacd-5e36-4878-8681-a9936029b403",
   "metadata": {},
   "source": [
    "![alt text](Hiring_Pillar_Equipments_MC.jpg)"
   ]
  },
  {
   "cell_type": "markdown",
   "id": "95a6c078-f95e-45e6-810f-f616c7f45c66",
   "metadata": {},
   "source": [
    "<b><ol start=\"2\">\n",
    "    <li>\n",
    "    <h1>Requisitioning Items from Store</h1>\n",
    "    </li>\n",
    "</ol></b>"
   ]
  },
  {
   "cell_type": "markdown",
   "id": "58403b0f-03e0-47c5-87a2-d46878e53bfc",
   "metadata": {},
   "source": [
    "<ol>\n",
    "    <li> Log into MC &rarr; Click on <b>Store </b> &rarr; Click on <b> Issue Request </b> &rarr; Click on <b>Edit Issue Requestes</b> &rarr; Under Cost Center/Store select <b>TMH IT Systems Department</b> &rarr; Under Request From select <b> TMH Main Store General </b> &rarr; Click <b>New Position</b> and select the item under Article &rarr; Enter the <b>quantity</b> &rarr; Click <b>OK</b> and then Click <b>Request</b></li>\n",
    "</ol>"
   ]
  },
  {
   "cell_type": "markdown",
   "id": "3b3b0f92-9ffb-4a74-8d34-7e21e38e03ee",
   "metadata": {},
   "source": [
    "![alt text](Requisitioning_Items_From_Store.jpg)"
   ]
  },
  {
   "cell_type": "markdown",
   "id": "506bcbd0-c848-4f25-8b13-bbd45db73130",
   "metadata": {},
   "source": [
    "![alt text](Requisitioning_Items_From_Store_Request.jpg)"
   ]
  },
  {
   "cell_type": "markdown",
   "id": "847daca8-1a86-47b2-96ce-73681a49a85e",
   "metadata": {},
   "source": [
    "<b><ol start=\"3\">\n",
    "    <li>\n",
    "        <h1>Unbooking Inventory From MC</h1>\n",
    "    </li>\n",
    "</ol></b>"
   ]
  },
  {
   "cell_type": "code",
   "execution_count": null,
   "id": "a4762e94-7592-47be-9518-d9b8a2463f72",
   "metadata": {},
   "outputs": [],
   "source": []
  },
  {
   "cell_type": "code",
   "execution_count": null,
   "id": "9ef32714-e8da-4905-9a2e-cfc3db1c19af",
   "metadata": {},
   "outputs": [],
   "source": []
  }
 ],
 "metadata": {
  "kernelspec": {
   "display_name": "Python 3 (ipykernel)",
   "language": "python",
   "name": "python3"
  },
  "language_info": {
   "codemirror_mode": {
    "name": "ipython",
    "version": 3
   },
   "file_extension": ".py",
   "mimetype": "text/x-python",
   "name": "python",
   "nbconvert_exporter": "python",
   "pygments_lexer": "ipython3",
   "version": "3.10.5"
  }
 },
 "nbformat": 4,
 "nbformat_minor": 5
}
