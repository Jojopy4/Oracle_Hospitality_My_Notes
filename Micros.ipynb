{
 "cells": [
  {
   "cell_type": "markdown",
   "id": "637f0871-7a12-4440-94cc-e4068f038550",
   "metadata": {},
   "source": [
    "<h1>MICROS </h1>"
   ]
  },
  {
   "cell_type": "markdown",
   "id": "5e956353-e04c-41c0-8d77-f2183f72a2dd",
   "metadata": {},
   "source": [
    "Push everything to main branch"
   ]
  },
  {
   "cell_type": "code",
   "execution_count": null,
   "id": "75893d63-7c13-4902-b65b-a7d9125e2118",
   "metadata": {},
   "outputs": [],
   "source": []
  }
 ],
 "metadata": {
  "kernelspec": {
   "display_name": "Python 3 (ipykernel)",
   "language": "python",
   "name": "python3"
  },
  "language_info": {
   "codemirror_mode": {
    "name": "ipython",
    "version": 3
   },
   "file_extension": ".py",
   "mimetype": "text/x-python",
   "name": "python",
   "nbconvert_exporter": "python",
   "pygments_lexer": "ipython3",
   "version": "3.7.9"
  }
 },
 "nbformat": 4,
 "nbformat_minor": 5
}
