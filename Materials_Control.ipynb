{
 "cells": [
  {
   "cell_type": "markdown",
   "id": "e6cc65a8-31a5-4618-b33c-59477e8d258a",
   "metadata": {},
   "source": [
    "<h1>Materials_Control_Installation_Steps</h1>"
   ]
  },
  {
   "cell_type": "markdown",
   "id": "e82cc385-2fe8-4312-8e2a-a366eca0955a",
   "metadata": {},
   "source": [
    "<ol>\n",
    "<li>First step is to Download .netframework 3.5</li>\n",
    "<li>Then go to 192.168.0.12 &rarr; Utility &rarr; Oracle &rarr; Oracle client 11g 11.2.0.4 32s bit &rarr; click on the setup </li>\n",
    "<ol>"
   ]
  },
  {
   "cell_type": "markdown",
   "id": "5b89362c-e23f-4f61-85c9-dbf001bf43eb",
   "metadata": {},
   "source": [
    "![alt text](Oracle_RunTime.jpg)"
   ]
  },
  {
   "cell_type": "markdown",
   "id": "4fe96b74-8ef0-4f47-a896-912eb3ccad05",
   "metadata": {},
   "source": [
    "![alt text](Oracle_Skip_Software_Updates.jpg)"
   ]
  },
  {
   "cell_type": "markdown",
   "id": "7aa71c81-23ab-4ce4-9811-23eb94a07053",
   "metadata": {},
   "source": [
    "![alt text](Oracle_English.jpg)"
   ]
  },
  {
   "cell_type": "markdown",
   "id": "00f39d2c-ff33-4218-a60f-ec70c1a72d44",
   "metadata": {},
   "source": [
    "![alt text](Oracle_Path_on_C_drive.jpg)"
   ]
  },
  {
   "cell_type": "markdown",
   "id": "5dc61d88-4e3b-4b81-8c4b-d521be00e2a4",
   "metadata": {},
   "source": [
    "![alt text](Oracle_Install.jpg)"
   ]
  },
  {
   "cell_type": "markdown",
   "id": "292857b6-0779-428e-8b75-848a6f9253dc",
   "metadata": {},
   "source": [
    "![alt text](Oracle_Finished_Installation.jpg)"
   ]
  },
  {
   "cell_type": "markdown",
   "id": "a1b39220-a998-4ed5-9acf-a4d25fee2f94",
   "metadata": {},
   "source": [
    "<ol start=\"3\">\n",
    "<li>On your start bar search Net Configuration Assistant and click on it</li>\n",
    "<ol>"
   ]
  },
  {
   "cell_type": "markdown",
   "id": "9f966e39-2bd3-4eb8-b253-714b0bff2071",
   "metadata": {},
   "source": [
    "![alt text](Net_Configuration_Assistant_Local_Net_Service_Name_Configuration.jpg)"
   ]
  },
  {
   "cell_type": "markdown",
   "id": "1e539c0d-df68-4456-acef-04cd4c9f8356",
   "metadata": {},
   "source": [
    "![alt text](Net_Configuration_Assistant_Add.jpg)"
   ]
  },
  {
   "cell_type": "markdown",
   "id": "0b43619b-e904-4338-b86d-a38494004e43",
   "metadata": {},
   "source": [
    "![alt text](Net_Configuration_Assistant_Service_Name.jpg)"
   ]
  },
  {
   "cell_type": "markdown",
   "id": "2ad20f6f-de6e-4af7-976e-cf693b1d185f",
   "metadata": {},
   "source": [
    "![alt text](Net_Configuration_Assistant_TCP.jpg)"
   ]
  },
  {
   "cell_type": "markdown",
   "id": "df9f47f8-c183-4484-b04f-c1ee48e3a269",
   "metadata": {},
   "source": [
    "![alt text](Net_Configuration_Assistant_Host_Name.jpg)"
   ]
  },
  {
   "cell_type": "markdown",
   "id": "320ffc42-5e80-4a5a-9074-2756e195932a",
   "metadata": {},
   "source": [
    "![alt text](Net_Configuration_Assistant_Yes_Perform_a_test.jpg)"
   ]
  },
  {
   "cell_type": "markdown",
   "id": "e1b9f235-32d9-4bb2-878e-4f303539168b",
   "metadata": {},
   "source": [
    "![alt text](Net_Configuration_Assistant_Change_Login.jpg)"
   ]
  },
  {
   "cell_type": "markdown",
   "id": "6289453d-a7b5-4d21-9c98-1d3a369da69e",
   "metadata": {},
   "source": [
    "<ol start=\"4\">\n",
    "    <li>\n",
    "    <pre>\n",
    "    Username: system\n",
    "    Password: oracle\n",
    "   </pre>\n",
    "   </li>\n",
    "<ol>"
   ]
  },
  {
   "cell_type": "markdown",
   "id": "8ca4a271-6635-4cd2-91bb-266b416a123b",
   "metadata": {},
   "source": [
    "![alt text](Net_Configuration_Assistant_Test_Successful.jpg)"
   ]
  },
  {
   "cell_type": "markdown",
   "id": "cc4474a9-7551-4b12-97ca-ce155dfba0b0",
   "metadata": {},
   "source": [
    "![alt text](Net_Configuration_Assistant_Net_Service_Name.jpg)"
   ]
  },
  {
   "cell_type": "markdown",
   "id": "3d8f7ba3-00de-42b2-81e6-5892246db247",
   "metadata": {},
   "source": [
    "<ol start=\"4\">\n",
    "    <li> Click Cancel and then click finish\n",
    "   </li>\n",
    "<ol>"
   ]
  },
  {
   "cell_type": "markdown",
   "id": "3ed56e1e-2a65-4efc-8a8a-25e816d5eca7",
   "metadata": {},
   "source": [
    "![alt text](Net_Configuration_Assistant_Cancel_and_Finish.jpg)"
   ]
  },
  {
   "cell_type": "markdown",
   "id": "1ec47602-0221-473a-a6fd-bd0f60fc5e35",
   "metadata": {},
   "source": [
    "<ol start=\"5\">\n",
    "    <li> Then go to 192.168.0.12 &rarr; Utility &rarr; Client Installation - Trademark &rarr; 150529_MC_FULL_8.30.6.1550 &rarr; click on the MC setup &rarr; Click next until you finish the setup\n",
    "   </li>\n",
    "<ol>"
   ]
  },
  {
   "cell_type": "code",
   "execution_count": null,
   "id": "8cd89afe-1368-4fb8-8058-49ee2b066008",
   "metadata": {},
   "outputs": [],
   "source": []
  }
 ],
 "metadata": {
  "kernelspec": {
   "display_name": "Python 3 (ipykernel)",
   "language": "python",
   "name": "python3"
  },
  "language_info": {
   "codemirror_mode": {
    "name": "ipython",
    "version": 3
   },
   "file_extension": ".py",
   "mimetype": "text/x-python",
   "name": "python",
   "nbconvert_exporter": "python",
   "pygments_lexer": "ipython3",
   "version": "3.10.5"
  }
 },
 "nbformat": 4,
 "nbformat_minor": 5
}
