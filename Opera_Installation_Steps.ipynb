{
 "cells": [
  {
   "cell_type": "markdown",
   "id": "cb9c97b2-d362-46bd-b0cb-1a970bbdc8c1",
   "metadata": {},
   "source": [
    "<h1>Opera_Installation_Steps</h1>"
   ]
  },
  {
   "cell_type": "markdown",
   "id": "b904fb32-472f-42c1-844f-07c15d4e64c7",
   "metadata": {},
   "source": [
    "<ol>\n",
    "<h2><b>Windows Installation:</b></h2>\n",
    "    <li>Uninstall any other Windows</li>\n",
    "    <li>Paste the following link to your browser and download the office deployment tool: <a herf =\"https://www.microsoft.com/en-us/download/confirmation.aspx?id=49117\">https://www.microsoft.com/en-us/download/confirmation.aspx?id=49117</a></li>\n",
    "    <li>Create an office folder in the C:\\windows directory. i.e C:\\windows\\office</li>\n",
    "    <li>Extract the ODT by running the office deployment tool you downloaded and save the files in the office folder you created in the C:\\windows directory.</li>\n",
    "    <li>Run Command Prompt(CMD) as administrator, move to the office folder, then paste and run the following command: setup /download \"configuration-Office2019Enterprise.xml\"</li>\n",
    "</ol>\n"
   ]
  },
  {
   "cell_type": "markdown",
   "id": "4eca4148-bd05-4997-993a-6fe443c3fd79",
   "metadata": {},
   "source": [
    "![alt text](Moving_To_The_Office_Folder.png)"
   ]
  },
  {
   "cell_type": "markdown",
   "id": "86c4f7f8-ff85-469f-a1bd-42ad161cc12d",
   "metadata": {},
   "source": [
    "<ol start=\"6\">\n",
    "    <li>Once the process is done above then paste and run the following command: setup /configure \"configuration-Office2019Enterprise.xml\"</li>\n",
    "    <li>After the office installtion is done run an office application and input the activation key.</li>\n",
    "</ol>"
   ]
  },
  {
   "cell_type": "markdown",
   "id": "f46e2699-e8d6-48e8-bd1c-c55e247fafee",
   "metadata": {},
   "source": [
    "![alt text](Office_installation_Img.jpg)"
   ]
  },
  {
   "cell_type": "markdown",
   "id": "f84557ca-4f54-462b-bcfc-a4e774db21e1",
   "metadata": {
    "tags": []
   },
   "source": [
    "<ol>\n",
    "    <h2>Opera Installation</h2>\n",
    "    <li>Go to c:\\Windows\\system32\\drivers\\etc and check if there is a host file. If there is no host file copy and paste the host file from \\\\192.168.0.224\\IT Software Installation\\Opera Installation Files</li>\n",
    "    <li>Go to control panel &rarr; programs and features  &rarr; uninstall a program and check what Java version is there if the version is not <b>Java 8 Update 301 </b> uninstall and install the Java application in the Opera Installation Files</li>\n",
    "    <li>On the windows search area search for Configure Java and run it  &rarr; go to the <b>updates tab</b> and untick check for updates  &rarr; then go to the <b>security tab</b>  &rarr; edit site list and add \n",
    "    <pre>\n",
    "    http://192.168.0.16\n",
    "    https://192.168.0.16\n",
    "    http://THLPMSAPP.Tribe.local\n",
    "    https://THLPMSAPP.Tribe.local\n",
    "    </pre> \n",
    "    &rarr; thereafter go to the <b>advanced tab</b> and on the option <b>mixed code(sandboxed Vs trusted) security verification</b>, tick enable -hide warning and run with protection &rarr; on the options <b>Perform signed code certificate revokation checks </b> and <b>Perform TLS certificate revocation</b>, tick Do not check, then on the <b>use TLS</b> option tick 1.0,1.1,1.2,1.3 and ypu can also tick use SSL 2.0 compatible Client Hello format\n",
    "    </li>\n",
    "    <li>Thereafter go to Internet Explorer &rarr; go to <b> settings </b> &rarr; go to <b>Internet Options</b> under home page tab enter the following IP<pre> https://192.168.0.16 </pre>, then under <b>security tab</b> &rarr; go to trusted sites &rarr; go to sites and add the following\n",
    "    <pre>\n",
    "    https://192.168.0.16\n",
    "    https://THLPMSAPP.Tribe.local \n",
    "    </pre>\n",
    "    </li>\n",
    "</ol>"
   ]
  },
  {
   "cell_type": "markdown",
   "id": "9db89b5f-a363-485d-984f-b00d8e7e1abd",
   "metadata": {},
   "source": [
    "![alt text](Trusted_Sites.jpg)"
   ]
  },
  {
   "cell_type": "markdown",
   "id": "52484347-61c1-4abc-b962-d312e2184c28",
   "metadata": {},
   "source": [
    "<ol start=\"5\">\n",
    "    <li> &rarr; Go to the Privacy Tab> Untick Turn on Pop-up blocker. </li>\n",
    "    \n",
    "</ol>"
   ]
  },
  {
   "cell_type": "markdown",
   "id": "6ef08df0-2640-43ef-b760-16980c402a0e",
   "metadata": {},
   "source": [
    "<ol start=\"6\">\n",
    "    <li> &rarr; Go to Advanced Tab &rarr; Security and tick the first three Allow active and \n",
    "Uncheck the three check for publisher's revocation,Check for server certificate, Check for signatures on downloaded programs\n",
    " </li>\n",
    "  \n",
    "</ol>"
   ]
  },
  {
   "cell_type": "markdown",
   "id": "f0b21fa7-7d40-4e02-8930-882c562ca17e",
   "metadata": {},
   "source": [
    "![alt text](Advanced_Tab.jpg)"
   ]
  },
  {
   "cell_type": "markdown",
   "id": "654e2491-0b48-4c78-8873-06c6470c9a5a",
   "metadata": {},
   "source": [
    "<ol start=\"7\">\n",
    "    <li> &rarr; Go to Manage add ons and Enable all Java plugin and Disable Send to one note </li>\n",
    "    <li>&rarr; Go to Compatibility View settings add\n",
    "https://192.168.0.16</li>\n",
    "</ol>"
   ]
  },
  {
   "cell_type": "markdown",
   "id": "393ed679-56f4-46b1-b636-46797dc2bfc1",
   "metadata": {},
   "source": [
    "![alt text](Compatibility_View.jpg)"
   ]
  },
  {
   "cell_type": "code",
   "execution_count": null,
   "id": "82636c9d-5ae4-4390-996a-d912c59e959c",
   "metadata": {},
   "outputs": [],
   "source": []
  }
 ],
 "metadata": {
  "kernelspec": {
   "display_name": "Python 3 (ipykernel)",
   "language": "python",
   "name": "python3"
  },
  "language_info": {
   "codemirror_mode": {
    "name": "ipython",
    "version": 3
   },
   "file_extension": ".py",
   "mimetype": "text/x-python",
   "name": "python",
   "nbconvert_exporter": "python",
   "pygments_lexer": "ipython3",
   "version": "3.10.5"
  }
 },
 "nbformat": 4,
 "nbformat_minor": 5
}
