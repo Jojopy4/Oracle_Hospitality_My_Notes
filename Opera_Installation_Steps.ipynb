{
 "cells": [
  {
   "cell_type": "markdown",
   "id": "cb9c97b2-d362-46bd-b0cb-1a970bbdc8c1",
   "metadata": {},
   "source": [
    "<h1>Opera_Installation_Steps</h1>"
   ]
  },
  {
   "cell_type": "markdown",
   "id": "b904fb32-472f-42c1-844f-07c15d4e64c7",
   "metadata": {},
   "source": [
    "<ol>\n",
    "<h2><b>Windows Installation:</b></h2>\n",
    "    <li>Uninstall any other Windows</li>\n",
    "    <li>Paste the following link to your browser and download the office deployment tool: <a herf =\"https://www.microsoft.com/en-us/download/confirmation.aspx?id=49117\">https://www.microsoft.com/en-us/download/confirmation.aspx?id=49117</a></li>\n",
    "    <li>Create an office folder in the C:\\windows directory. i.e C:\\windows\\office</li>\n",
    "    <li>Extract the ODT by running the office deployment tool you downloaded and save the files in the office folder you created in the C:\\windows directory.</li>\n",
    "    <li>Run Command Prompt(CMD) as administrator, move to the office folder, then paste and run the following command: setup /download \"configuration-Office2019Enterprise.xml\"</li>\n",
    "    ![alt text](Moving_To_The_Office_Folder.png)\n",
    "    <li>Once the process is done above then paste and run the following command: setup /configure \"configuration-Office2019Enterprise.xml\"</li>\n",
    "    <li>After the office installtion is done run an office application and input the activation key.</li>\n",
    "</ol>\n",
    "![alt text](Moving_To_The_Office_Folder.png)"
   ]
  },
  {
   "cell_type": "markdown",
   "id": "4eca4148-bd05-4997-993a-6fe443c3fd79",
   "metadata": {},
   "source": [
    "![alt text](Moving_To_The_Office_Folder.png)"
   ]
  },
  {
   "cell_type": "markdown",
   "id": "86c4f7f8-ff85-469f-a1bd-42ad161cc12d",
   "metadata": {},
   "source": []
  },
  {
   "cell_type": "markdown",
   "id": "f46e2699-e8d6-48e8-bd1c-c55e247fafee",
   "metadata": {},
   "source": []
  },
  {
   "cell_type": "markdown",
   "id": "f84557ca-4f54-462b-bcfc-a4e774db21e1",
   "metadata": {},
   "source": []
  },
  {
   "cell_type": "code",
   "execution_count": null,
   "id": "ffbd1387-4c26-4c06-bdfe-5ec8388f6a28",
   "metadata": {},
   "outputs": [],
   "source": []
  }
 ],
 "metadata": {
  "kernelspec": {
   "display_name": "Python 3 (ipykernel)",
   "language": "python",
   "name": "python3"
  },
  "language_info": {
   "codemirror_mode": {
    "name": "ipython",
    "version": 3
   },
   "file_extension": ".py",
   "mimetype": "text/x-python",
   "name": "python",
   "nbconvert_exporter": "python",
   "pygments_lexer": "ipython3",
   "version": "3.10.5"
  }
 },
 "nbformat": 4,
 "nbformat_minor": 5
}
