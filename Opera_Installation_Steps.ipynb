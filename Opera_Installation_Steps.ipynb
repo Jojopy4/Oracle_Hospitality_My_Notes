{
 "cells": [
  {
   "cell_type": "markdown",
   "id": "cb9c97b2-d362-46bd-b0cb-1a970bbdc8c1",
   "metadata": {},
   "source": [
    "<h1>Opera_Installation_Steps</h1>"
   ]
  },
  {
   "cell_type": "markdown",
   "id": "b904fb32-472f-42c1-844f-07c15d4e64c7",
   "metadata": {},
   "source": [
    "<ol>\n",
    "<h2><b>Windows Installation:</b></h2>\n",
    "    <li>Uninstall any other Windows</li>\n",
    "    <li>Paste the following link to your browser and download the office deployment tool: <a herf =\"https://www.microsoft.com/en-us/download/confirmation.aspx?id=49117\">https://www.microsoft.com/en-us/download/confirmation.aspx?id=49117</a></li>\n",
    "    <li>Create an office folder in the C:\\windows directory. i.e C:\\windows\\office</li>\n",
    "    <li>Extract the ODT by running the office deployment tool you downloaded and save the files in the office folder you created in the C:\\windows directory.</li>\n",
    "    <li>Run Command Prompt(CMD) as administrator, move to the office folder, then paste and run the following command: setup /download \"configuration-Office2019Enterprise.xml\"</li>\n",
    "</ol>\n"
   ]
  },
  {
   "cell_type": "markdown",
   "id": "4eca4148-bd05-4997-993a-6fe443c3fd79",
   "metadata": {},
   "source": [
    "![alt text](Moving_To_The_Office_Folder.png)"
   ]
  },
  {
   "cell_type": "markdown",
   "id": "86c4f7f8-ff85-469f-a1bd-42ad161cc12d",
   "metadata": {},
   "source": [
    "<ol start=\"6\">\n",
    "    <li>Once the process is done above then paste and run the following command: setup /configure \"configuration-Office2019Enterprise.xml\"</li>\n",
    "    <li>After the office installtion is done run an office application and input the activation key.</li>\n",
    "</ol>"
   ]
  },
  {
   "cell_type": "markdown",
   "id": "f46e2699-e8d6-48e8-bd1c-c55e247fafee",
   "metadata": {},
   "source": [
    "![alt text](Office_installation_Img.jpg)"
   ]
  },
  {
   "cell_type": "markdown",
   "id": "789e4c5f-acfb-4978-8b4d-56285615794d",
   "metadata": {},
   "source": [
    "<ol>\n",
    "<h2><b>Configure Java</b></h2>\n",
    "    <li>Go to <b>192.168.0.224 </b> &rarr; IT Software Installation folder &rarr; Opera Installation Files Folder &rarr; Copy the Host file and paste it on <b> c:\\Windows\\system32\\drivers\\etc </b> on the PC you are installing Opera on</li>\n",
    "</ol>"
   ]
  },
  {
   "cell_type": "markdown",
   "id": "e0cd0294-1787-46eb-8db7-691ca34cd680",
   "metadata": {},
   "source": [
    "![alt text](Opera_Java_Version.jpg)"
   ]
  },
  {
   "cell_type": "markdown",
   "id": "de847ea0-fab8-4def-9992-ca638100645f",
   "metadata": {},
   "source": [
    "<ol start=\"2\">\n",
    "    <li>From programs and features Confirm and uninstall any Java version that is not Java Version 8 Update 301 and install the required Java version found on 192.168.0.224 &rarr; IT Software Installation folder &rarr; Opera Installation Files Folder &rarr; jre-8u301-windows-i586</li>\n",
    "    <li> Go to Start button and search and click on Configure Java &rarr; Go to the Updates Tab and untick check for Updates Automatically &rarr; Click apply &rarr; click Do Not Check </li>\n",
    "</ol>"
   ]
  },
  {
   "cell_type": "markdown",
   "id": "970eaf57-8818-400d-affc-79fe3451eabc",
   "metadata": {},
   "source": [
    "![alt text](Opera_Configure_Java_Uncheck_Automatic_Updates.jpg)"
   ]
  },
  {
   "cell_type": "markdown",
   "id": "ebfb5fcb-ec03-49ee-8c12-35f019325242",
   "metadata": {},
   "source": [
    "<ol start=\"4\">\n",
    "    <li> Go to <b>Security tab </b> &rarr; Go to <b> edit site list </b> &rarr; and Add the following:\n",
    "        <pre> \n",
    "            http://192.168.0.16\n",
    "            https://192.168.0.16\n",
    "            http://THLPMSAPP.Tribe.local\n",
    "            https://THLPMSAPP.Tribe.local \n",
    "        </pre>\n",
    "      </li>\n",
    "</ol>"
   ]
  },
  {
   "cell_type": "markdown",
   "id": "9b1f0d1b-095e-41e5-9cfd-0a1d4a88a75a",
   "metadata": {},
   "source": [
    "![alt text](Opera_Configure_Java_Edit_Site_List.jpg)"
   ]
  },
  {
   "cell_type": "markdown",
   "id": "5a6b9143-911b-463d-aa71-01189354d47d",
   "metadata": {},
   "source": [
    "<ol start=\"5\">\n",
    "    <li> Go to <b>Advanced tab </b> &rarr; Go to <b> Mixed code (sandboxed vs. trusted) security verification tab </b> and tick <b>Enable - hide warning and run with protections</b> option </li>\n",
    "    <li>Still under the <b>Advanced tab </b> &rarr; go to <b>Perform signed code certificate revocation checks on</b> option and <b>Perform TLS certificate revocation checks on</b> option and tick Do Not Check for both options</li>\n",
    "    <li> Still under the <b>Advanced tab </b> &rarr; go to <b>Advanced Security Settings</b> option and tick Use SSL 2.0, Use TLS 1.0, Use TLS 1.1, Use TLS 1.2, and Use TLS 1.3 Option.</li>\n",
    "</ol>"
   ]
  },
  {
   "cell_type": "markdown",
   "id": "2219260a-4711-48bf-b3d4-ca8cb60e0f90",
   "metadata": {},
   "source": [
    "![alt text](Opera_Configure_Java_Edit_Site_List.jpg)"
   ]
  },
  {
   "cell_type": "markdown",
   "id": "95f2d4c9-bbca-46a3-ab1e-f2fd66c34849",
   "metadata": {},
   "source": [
    "<ol start=\"8\">\n",
    "    <li> Finally Click <b>Apply</b> and Then Click <b>Ok</b> </li>\n",
    "    \n",
    "</ol>"
   ]
  },
  {
   "cell_type": "markdown",
   "id": "f84557ca-4f54-462b-bcfc-a4e774db21e1",
   "metadata": {},
   "source": [
    "<ol>\n",
    "    <h2>Opera Installation</h2>\n",
    "    <li>Go to c:\\Windows\\system32\\drivers\\etc and check if there is a host file. If there is no host file copy and paste the host file from \\\\192.168.0.224\\IT Software Installation\\Opera Installation Files</li>\n",
    "    <li>Go to control panel &rarr; programs and features  &rarr; uninstall a program and check what Java version is there if the version is not <b>Java 8 Update 301 </b> uninstall and install the Java application in the Opera Installation Files</li>\n",
    "    <li>On the windows search area search for Configure Java and run it  &rarr; go to the <b>updates tab</b> and untick check for updates  &rarr; then go to the <b>security tab</b>  &rarr; edit site list and add \n",
    "    <pre>\n",
    "    http://192.168.0.16\n",
    "    https://192.168.0.16\n",
    "    http://THLPMSAPP.Tribe.local\n",
    "    https://THLPMSAPP.Tribe.local\n",
    "    </pre> \n",
    "    &rarr; thereafter go to the <b>advanced tab</b> and on the option <b>mixed code(sandboxed Vs trusted) security verification</b>, tick enable -hide warning and run with protection &rarr; on the options <b>Perform signed code certificate revokation checks </b> and <b>Perform TLS certificate revocation</b>, tick Do not check, then on the <b>use TLS</b> option tick 1.0,1.1,1.2,1.3 and ypu can also tick use SSL 2.0 compatible Client Hello format\n",
    "    </li>\n",
    "    <li>Thereafter go to Internet Explorer &rarr; go to <b> settings </b> &rarr; go to <b>Internet Options</b> under home page tab enter the following IP<pre> https://192.168.0.16 </pre>, \n",
    "    </li>\n",
    "</ol>"
   ]
  },
  {
   "cell_type": "markdown",
   "id": "91416700-7b09-471b-bd33-63b61a86377e",
   "metadata": {},
   "source": [
    "![alt text](Opera_Internet_Options_Home_Page.jpg)"
   ]
  },
  {
   "cell_type": "markdown",
   "id": "aa3166d6-75e4-44e3-a84d-79bcf5efea0e",
   "metadata": {},
   "source": [
    "<ol start=\"5\">\n",
    "    <li>Then under <b>security tab</b> &rarr; go to trusted sites &rarr; go to sites and add the following\n",
    "    <pre>\n",
    "    https://192.168.0.16\n",
    "    https://THLPMSAPP.Tribe.local\n",
    "    </pre></li>\n",
    "</ol>"
   ]
  },
  {
   "cell_type": "markdown",
   "id": "505dac38-f340-4b1d-b247-aaf03fb75847",
   "metadata": {},
   "source": [
    "![alt text](Opera_Internet_Options_Trusted_Sites.jpg)"
   ]
  },
  {
   "cell_type": "markdown",
   "id": "a282968d-f728-44d6-8e91-587acffbc368",
   "metadata": {},
   "source": [
    "<ol start=\"6\">\n",
    "    <li>Then under <b>Privacy tab</b> &rarr; untick Turn on Pop-up blocker</li>\n",
    "</ol>"
   ]
  },
  {
   "cell_type": "markdown",
   "id": "4d667aca-8edd-4abc-8d76-44b460ffb4fd",
   "metadata": {},
   "source": [
    "![alt text](Opera_Internet_Options_Privacy.jpg)"
   ]
  },
  {
   "cell_type": "markdown",
   "id": "83fca581-89fe-47e8-a472-980c36cea6cb",
   "metadata": {},
   "source": [
    "<ol start=\"7\">\n",
    "    <li>Then under <b>Advanced tab</b> &rarr; Scroll down to the <i>security tab</i> and tick the 1st 3 Allow options and ensure you have unticked the 3 <b>Check for</b> options</li>\n",
    "</ol>"
   ]
  },
  {
   "cell_type": "markdown",
   "id": "5bd0ce87-34b0-4ee1-a17e-bbc095534d19",
   "metadata": {},
   "source": [
    "![alt text](Opera_Internet_Options_Advanced_Tab.jpg)"
   ]
  },
  {
   "cell_type": "markdown",
   "id": "7940c8d0-5dea-4b85-b33d-17886a234f98",
   "metadata": {},
   "source": [
    "<ol start=\"8\">\n",
    "    <li>Still under the <b>Advanced tab</b> &rarr; <b> <i>Security tab</i></b> &rarr; Ensure Use SSL 3.0, Use TLS 1.0, Use TLS 1.1, Use TLS 1.2, and Use TLs 1.3 (Experimental) tabs have been ticked.</li>\n",
    "</ol>"
   ]
  },
  {
   "cell_type": "markdown",
   "id": "067d3bc3-9723-4653-b246-917bcd2d8630",
   "metadata": {},
   "source": [
    "![alt text](Opera_Internet_Options_Advanced_Tab_Use_TLS.jpg)"
   ]
  },
  {
   "cell_type": "code",
   "execution_count": null,
   "id": "4a17c104-6979-480b-8c5b-17ca8e434b5e",
   "metadata": {},
   "outputs": [],
   "source": []
  }
 ],
 "metadata": {
  "kernelspec": {
   "display_name": "Python 3 (ipykernel)",
   "language": "python",
   "name": "python3"
  },
  "language_info": {
   "codemirror_mode": {
    "name": "ipython",
    "version": 3
   },
   "file_extension": ".py",
   "mimetype": "text/x-python",
   "name": "python",
   "nbconvert_exporter": "python",
   "pygments_lexer": "ipython3",
   "version": "3.10.5"
  }
 },
 "nbformat": 4,
 "nbformat_minor": 5
}
