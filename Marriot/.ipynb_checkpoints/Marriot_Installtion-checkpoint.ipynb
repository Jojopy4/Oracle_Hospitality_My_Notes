{
 "cells": [
  {
   "cell_type": "markdown",
   "id": "4888a9fc-4428-4293-b80c-61546e778d79",
   "metadata": {},
   "source": [
    "<h1>Marriot Installation</h1>"
   ]
  },
  {
   "cell_type": "markdown",
   "id": "49e9e01d-4fac-41c8-822f-e4818cc1c9ed",
   "metadata": {},
   "source": [
    "<ol>\n",
    "   <li>Install Java 301 </li>\n",
    "  <li>Go to <b>192.168.0.224 </b> &rarr; IT Software Installation folder &rarr; Marriot Folder &rarr; Bluezone &rarr; New folder &rarr; go to <b>c\\Users\\username\\AppData\\Local\\Temp</b> and create a new folder called BlueZone &rarr; Copy the 6.1 file and paste it in the folder you created.</li>\n",
    "   <li>On <b>192.168.0.224 </b> &rarr; IT Software Installation folder &rarr; Marriot Folder &rarr; copy BlueZone folder and paste it inside inside <b>c\\Users\\username\\documents</b>\n",
    "   </li>\n",
    "</ol>"
   ]
  },
  {
   "cell_type": "markdown",
   "id": "71803755-ef26-4606-8c4f-29b5fbbda57a",
   "metadata": {},
   "source": [
    "<ol start=\"4\">\n",
    "    <li> Go to Start button and search and click on Configure Java &rarr; Go to the security Tab and add the link<b> https://sba2.marriott.com/Portal/Main </b> &rarr; Click apply &rarr; then click ok </li>\n",
    "</ol>"
   ]
  },
  {
   "cell_type": "markdown",
   "id": "1cadb8cd-f84f-4e86-9354-538f31e3ce8d",
   "metadata": {},
   "source": [
    "![alt text](Marriot_Add_On_Configure_Java.jpg)"
   ]
  },
  {
   "cell_type": "markdown",
   "id": "6eb1171b-9008-4baa-bccf-0310f827f1bf",
   "metadata": {},
   "source": [
    "<ol start=\"5\">\n",
    "    <li> Go to your browser and paste the following link <b> https://sba2.marriott.com/Portal/Main </b>&rarr;If its Edge or chrome ensure you have installed IE Tab Helper to help enable Java applets</li>\n",
    "</ol>"
   ]
  },
  {
   "cell_type": "markdown",
   "id": "a13537d9-f6f6-435f-9132-e85944bc95d4",
   "metadata": {},
   "source": [
    "![alt text](Marriot_On_Chrome_Add_IETabHelper_To_Enable_JAva.jpg)"
   ]
  },
  {
   "cell_type": "code",
   "execution_count": null,
   "id": "e12407cd-eb00-4f86-9687-b8b799298c97",
   "metadata": {},
   "outputs": [],
   "source": []
  }
 ],
 "metadata": {
  "kernelspec": {
   "display_name": "Python 3 (ipykernel)",
   "language": "python",
   "name": "python3"
  },
  "language_info": {
   "codemirror_mode": {
    "name": "ipython",
    "version": 3
   },
   "file_extension": ".py",
   "mimetype": "text/x-python",
   "name": "python",
   "nbconvert_exporter": "python",
   "pygments_lexer": "ipython3",
   "version": "3.10.5"
  }
 },
 "nbformat": 4,
 "nbformat_minor": 5
}
