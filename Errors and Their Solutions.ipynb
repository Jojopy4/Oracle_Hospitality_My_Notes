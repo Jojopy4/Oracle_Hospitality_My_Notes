{
 "cells": [
  {
   "cell_type": "markdown",
   "id": "118c999e-836d-4ca9-a6a0-99c17f9a3ab2",
   "metadata": {},
   "source": [
    "<h1>Errors and their Solutions </h1>"
   ]
  },
  {
   "cell_type": "markdown",
   "id": "b73716cd-5d53-4522-aaa9-ae48a54687b4",
   "metadata": {},
   "source": [
    "![alt text](Folio_Print_Tasks_Need_to_be_Configured_Opera_Error.jpg)"
   ]
  },
  {
   "cell_type": "markdown",
   "id": "6dea7d11-2987-4e35-9117-dc5084ecda56",
   "metadata": {},
   "source": [
    "<p> </p>"
   ]
  }
 ],
 "metadata": {
  "kernelspec": {
   "display_name": "Python 3 (ipykernel)",
   "language": "python",
   "name": "python3"
  },
  "language_info": {
   "codemirror_mode": {
    "name": "ipython",
    "version": 3
   },
   "file_extension": ".py",
   "mimetype": "text/x-python",
   "name": "python",
   "nbconvert_exporter": "python",
   "pygments_lexer": "ipython3",
   "version": "3.10.5"
  }
 },
 "nbformat": 4,
 "nbformat_minor": 5
}
